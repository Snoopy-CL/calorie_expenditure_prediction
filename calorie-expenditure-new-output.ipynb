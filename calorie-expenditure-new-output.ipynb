version https://git-lfs.github.com/spec/v1
oid sha256:287c47ab1c852adbc275395df5bc2bf4f190e8d87e374f8b9d75a54afabcc1ec
size 28939504
