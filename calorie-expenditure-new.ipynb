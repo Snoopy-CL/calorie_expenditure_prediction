version https://git-lfs.github.com/spec/v1
oid sha256:923c49bd5fbe4b0bbe1cac844d472dc2c6ba95420fa8e4f10ad9fae8cf57e62f
size 25459
